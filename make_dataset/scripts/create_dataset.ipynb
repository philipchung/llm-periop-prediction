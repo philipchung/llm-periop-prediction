{
 "cells": [
  {
   "cell_type": "markdown",
   "source": [
    "# Create Dataset\n",
    "\n",
    " This script generates 8 different datasets for the following QA Tasks:\n",
    " * `asa`\n",
    " * `phase1_duration`\n",
    " * `hospital_duration`\n",
    " * `hospital_admission`\n",
    " * `icu_duration`\n",
    " * `icu_admission`\n",
    " * `unplanned_admit`\n",
    " * `hospital_mortality`\n",
    "\n",
    " These datasets include input data and labels."
   ],
   "metadata": {}
  },
  {
   "cell_type": "code",
   "execution_count": 1,
   "source": [
    "import logging\n",
    "from pathlib import Path\n",
    "\n",
    "import pandas as pd\n",
    "from llm_utils import DataPaths\n",
    "\n",
    "from make_dataset.dataset import DatasetBuilder\n",
    "\n",
    "logging.basicConfig(level=logging.INFO)\n",
    "\n",
    "pd.set_option(\"display.max_columns\", None)\n",
    "pd.set_option(\"display.max_rows\", 100)\n",
    "\n",
    "paths = DataPaths(project_dir=Path(__file__).parent.parent.parent, data_version=7)\n",
    "\n",
    "paths.register(name=\"adt_raw\", path=paths.raw / \"2023-05-11_ADT.feather\")\n",
    "paths.register(name=\"case_raw\", path=paths.raw / \"2023-05-11_Case.feather\")\n",
    "paths.register(name=\"preanes_notes_raw\", path=paths.raw / \"2023-05-02_PreAnesNotes.feather\")\n",
    "paths.register(name=\"last10_notes_raw\", path=paths.raw / \"2023-05-02_LastTenNotes.feather\")"
   ],
   "outputs": [
    {
     "output_type": "execute_result",
     "data": {
      "text/plain": [
       "PosixPath('/home/azureuser/cloudfiles/code/Users/chungph/llm-asa-los/data/v7/raw/2023-05-02_LastTenNotes.feather')"
      ]
     },
     "metadata": {},
     "execution_count": 1
    }
   ],
   "metadata": {}
  },
  {
   "cell_type": "markdown",
   "source": [
    " ## Build All Datasets for QA Prediction Outcome + Data Split + Note Type Combinations"
   ],
   "metadata": {}
  },
  {
   "cell_type": "code",
   "execution_count": 2,
   "source": [
    "builder = DatasetBuilder(paths=paths, dataset_version=\"dataset4\")"
   ],
   "outputs": [
    {
     "output_type": "stream",
     "name": "stderr",
     "text": [
      "INFO:BuilderLogger:Loading EncounterEvents.\n"
     ]
    },
    {
     "output_type": "stream",
     "name": "stdout",
     "text": [
      "ADTEvents Pipeline: 0:load_data > 1:clean_data > 2:compute_adt_location > 3:drop_adt_cols > 4:compute_key_info_from_adt_events\n",
      "Running steps: [2, 3]\n"
     ]
    },
    {
     "output_type": "display_data",
     "data": {
      "application/vnd.jupyter.widget-view+json": {
       "version_major": 2,
       "version_minor": 0,
       "model_id": "9d9da46bfa6f4f8bb19a84d0159ba4c6"
      },
      "text/plain": [
       "  0%|          | 0/2 [00:00<?, ?it/s]"
      ]
     },
     "metadata": {}
    },
    {
     "output_type": "stream",
     "name": "stderr",
     "text": [
      "INFO:FileLogger:Loaded: /home/azureuser/cloudfiles/code/Users/chungph/llm-asa-los/data/v7/interim/adt_location.feather\n",
      "INFO:PipelineLogger:Executed step num: 2, name: compute_adt_location\n",
      "INFO:PipelineLogger:Executed step num: 3, name: drop_adt_cols\n",
      "INFO:FileLogger:Loaded: /home/azureuser/cloudfiles/code/Users/chungph/llm-asa-los/data/v7/raw/2023-05-11_ADT.feather\n",
      "INFO:PipelineLogger:Executed step num: 0, name: load_data\n"
     ]
    },
    {
     "output_type": "stream",
     "name": "stdout",
     "text": [
      "CaseEvents Pipeline: 0:load_data > 1:clean_data > 2:transform_data\n",
      "Running steps: [2]\n"
     ]
    },
    {
     "output_type": "display_data",
     "data": {
      "application/vnd.jupyter.widget-view+json": {
       "version_major": 2,
       "version_minor": 0,
       "model_id": "f91353fe592b4d429f4d7c60af4bf9f3"
      },
      "text/plain": [
       "  0%|          | 0/1 [00:00<?, ?it/s]"
      ]
     },
     "metadata": {}
    },
    {
     "output_type": "stream",
     "name": "stderr",
     "text": [
      "INFO:FileLogger:Loaded: /home/azureuser/cloudfiles/code/Users/chungph/llm-asa-los/data/v7/interim/case_transformed.feather\n",
      "INFO:PipelineLogger:Executed step num: 2, name: transform_data\n",
      "INFO:FileLogger:Loaded: /home/azureuser/cloudfiles/code/Users/chungph/llm-asa-los/data/v7/raw/2023-05-11_Case.feather\n",
      "INFO:PipelineLogger:Executed step num: 0, name: load_data\n"
     ]
    },
    {
     "output_type": "stream",
     "name": "stdout",
     "text": [
      "ADTEvents Pipeline: 0:load_data > 1:clean_data > 2:compute_adt_location > 3:drop_adt_cols > 4:compute_key_info_from_adt_events\n",
      "Running steps: [4]\n"
     ]
    },
    {
     "output_type": "display_data",
     "data": {
      "application/vnd.jupyter.widget-view+json": {
       "version_major": 2,
       "version_minor": 0,
       "model_id": "80d35825c8ea46e8856877f84c31dbfb"
      },
      "text/plain": [
       "  0%|          | 0/1 [00:00<?, ?it/s]"
      ]
     },
     "metadata": {}
    },
    {
     "output_type": "stream",
     "name": "stderr",
     "text": [
      "INFO:FileLogger:Loaded: /home/azureuser/cloudfiles/code/Users/chungph/llm-asa-los/data/v7/interim/adt_key_info.feather\n",
      "INFO:PipelineLogger:Executed step num: 4, name: compute_key_info_from_adt_events\n",
      "INFO:FileLogger:Loaded: /home/azureuser/cloudfiles/code/Users/chungph/llm-asa-los/data/v7/interim/pacu_hospital_icu_durations.feather\n",
      "INFO:BuilderLogger:Loading Anesthesia Preoperative Evaluation Notes\n"
     ]
    },
    {
     "output_type": "stream",
     "name": "stdout",
     "text": [
      "PreAnesNote Pipeline: 0:load_data > 1:clean_data > 2:process_data > 3:collate_notes\n",
      "Running steps: [3]\n"
     ]
    },
    {
     "output_type": "display_data",
     "data": {
      "application/vnd.jupyter.widget-view+json": {
       "version_major": 2,
       "version_minor": 0,
       "model_id": "0a6bd97b93f64608a83b2792bab15c22"
      },
      "text/plain": [
       "  0%|          | 0/1 [00:00<?, ?it/s]"
      ]
     },
     "metadata": {}
    },
    {
     "output_type": "stream",
     "name": "stderr",
     "text": [
      "INFO:FileLogger:Loaded: /home/azureuser/cloudfiles/code/Users/chungph/llm-asa-los/data/v7/interim/preanes_notes_collated.feather\n",
      "INFO:PipelineLogger:Executed step num: 3, name: collate_notes\n",
      "INFO:FileLogger:Loaded: /home/azureuser/cloudfiles/code/Users/chungph/llm-asa-los/data/v7/raw/2023-05-02_PreAnesNotes.feather\n",
      "INFO:PipelineLogger:Executed step num: 0, name: load_data\n",
      "INFO:BuilderLogger:Loading Last 10 Clinical Notes\n"
     ]
    },
    {
     "output_type": "stream",
     "name": "stdout",
     "text": [
      "LastTenNote Pipeline: 0:load_data > 1:clean_data > 2:process_data > 3:collate_notes\n",
      "Running steps: [3]\n"
     ]
    },
    {
     "output_type": "display_data",
     "data": {
      "application/vnd.jupyter.widget-view+json": {
       "version_major": 2,
       "version_minor": 0,
       "model_id": "39f86ef5b0bb4aaba2a9925c5c26142d"
      },
      "text/plain": [
       "  0%|          | 0/1 [00:00<?, ?it/s]"
      ]
     },
     "metadata": {}
    },
    {
     "output_type": "stream",
     "name": "stderr",
     "text": [
      "INFO:FileLogger:Loaded: /home/azureuser/cloudfiles/code/Users/chungph/llm-asa-los/data/v7/interim/last10_notes_collated.feather\n",
      "INFO:PipelineLogger:Executed step num: 3, name: collate_notes\n",
      "INFO:FileLogger:Loaded: /home/azureuser/cloudfiles/code/Users/chungph/llm-asa-los/data/v7/raw/2023-05-02_LastTenNotes.feather\n",
      "INFO:PipelineLogger:Executed step num: 0, name: load_data\n",
      "INFO:BuilderLogger:Starting Preanes Note Count: 129143\n",
      "INFO:BuilderLogger:Preanes Note Count (remove total note text < 100 tokens): 129139\n",
      "INFO:BuilderLogger:Starting Last10 Note Count: 48215\n",
      "INFO:BuilderLogger:Last10 Note Count (remove total note text < 100 tokens): 47551\n",
      "INFO:BuilderLogger:Common Note ProcID Count: 47494\n"
     ]
    }
   ],
   "metadata": {}
  },
  {
   "cell_type": "code",
   "execution_count": 3,
   "source": [
    "# Encounter Events, Cases, Notes, ADT\n",
    "E = builder.E\n",
    "C = E.case\n",
    "A = E.adt\n",
    "PN = builder.preanes_notes\n",
    "L10N = builder.last10_notes\n",
    "common_note_ids = builder.common_note_proc_ids\n",
    "\n",
    "# Raw Data Statistics\n",
    "raw_cases = C.raw_df\n",
    "print(f\"Raw Case Count: {raw_cases.shape[0]}\")\n",
    "print(f\"Case Date Range: {raw_cases.DOS.min()} - {raw_cases.DOS.max()}\")\n",
    "print(\"\\n\")\n",
    "raw_adt = A.raw_df\n",
    "print(f\"Raw ADT Count: {raw_adt.shape[0]}\")\n",
    "print(f\"ADT Date Range: {raw_adt.EVENT_TIME.min()} - {raw_adt.EVENT_TIME.max()}\")\n",
    "print(\"\\n\")\n",
    "preanes_notes = PN.raw_df\n",
    "print(f\"Raw Preanes Notes Count: {preanes_notes.shape[0]}\")\n",
    "print(\n",
    "    \"Preanes Notes Date Range: \"\n",
    "    f\"{preanes_notes.NoteServiceDate.min()} - {preanes_notes.NoteServiceDate.max()}\"\n",
    ")\n",
    "print(\"\\n\")\n",
    "last10_notes = L10N.raw_df\n",
    "print(f\"Raw Last 10 Notes Count: {last10_notes.shape[0]}\")\n",
    "print(\n",
    "    \"Last 10 Notes Date Range: \"\n",
    "    f\"{last10_notes.NoteServiceDate.min()} - {last10_notes.NoteServiceDate.max()}\"\n",
    ")\n",
    "print(\"\\n\")\n",
    "# Get Final Cases with and without Durations prior to building individual datasets\n",
    "cases_without_duration = E.case.df.copy()\n",
    "cases_with_duration = E.case_durations.copy()\n",
    "patients_without_duration = cases_without_duration.drop_duplicates(\"PAT_ID\")\n",
    "non_organ_donor_cases_without_duration = patients_without_duration.query(\n",
    "    \"IsOrganDonorCase == False\"\n",
    ")\n",
    "patients_with_duration = cases_with_duration.drop_duplicates(\"PAT_ID\")\n",
    "non_organ_donor_cases_with_duration = patients_with_duration.query(\"IsOrganDonorCase == False\")\n",
    "print(f\"Case without Duration Count: {cases_without_duration.shape[0]}\")\n",
    "print(\n",
    "    f\"Case without Duration (Patient:Case uniquification) Count: {len(patients_without_duration)}\"  # noqa\n",
    ")\n",
    "print(\n",
    "    \"Case without Duration Non-Organ Donors: \",\n",
    "    len(non_organ_donor_cases_without_duration),\n",
    ")\n",
    "print(\"\\n\")\n",
    "print(f\"Case with Duration Count: {cases_with_duration.shape[0]}\")\n",
    "print(f\"Case with Duration (Patient:Case uniquification) Count: {len(patients_with_duration)}\")\n",
    "print(\"Case with Duration Non-Organ Donors: \", len(non_organ_donor_cases_with_duration))"
   ],
   "outputs": [
    {
     "output_type": "stream",
     "name": "stdout",
     "text": [
      "Raw Case Count: 137535\n",
      "Case Date Range: 2021-04-01 - 2023-05-05\n",
      "\n",
      "\n",
      "Raw ADT Count: 2253286\n",
      "ADT Date Range: 2021-01-12 04:37:00 - 2023-03-26 23:51:00\n",
      "\n",
      "\n",
      "Raw Preanes Notes Count: 133500\n",
      "Preanes Notes Date Range: 2021-03-17 08:33:00 - 2023-03-28 14:37:00\n",
      "\n",
      "\n",
      "Raw Last 10 Notes Count: 226821\n",
      "Last 10 Notes Date Range: 2004-05-17 09:30:00 - 2023-03-24 20:36:00\n",
      "\n",
      "\n",
      "Case without Duration Count: 125881\n",
      "Case without Duration (Patient:Case uniquification) Count: 85208\n",
      "Case without Duration Non-Organ Donors:  85128\n",
      "\n",
      "\n",
      "Case with Duration Count: 105815\n",
      "Case with Duration (Patient:Case uniquification) Count: 77087\n",
      "Case with Duration Non-Organ Donors:  76988\n"
     ]
    }
   ],
   "metadata": {}
  },
  {
   "cell_type": "code",
   "execution_count": 4,
   "source": [
    "# Create Datasets and Save to disk\n",
    "logging.info(\"Create ASA Dataset\")\n",
    "asa = builder.create_dataset(dataset_type=\"asa\")"
   ],
   "outputs": [
    {
     "output_type": "stream",
     "name": "stderr",
     "text": [
      "INFO:root:Create ASA Dataset\n",
      "INFO:BuilderLogger:Starting Num Cases: 125881\n",
      "INFO:BuilderLogger:Num Cases (filter by ProcIDs where we have PreAnes & Last10 Notes): 46472\n"
     ]
    },
    {
     "output_type": "display_data",
     "data": {
      "application/vnd.jupyter.widget-view+json": {
       "version_major": 2,
       "version_minor": 0,
       "model_id": "6f5d62484c9442a196cbeac96ef4d41f"
      },
      "text/plain": [
       "Select up to 1 cases per Patient (Dispatch):   0%|          | 0/42320 [00:00<?, ?it/s]"
      ]
     },
     "metadata": {}
    },
    {
     "output_type": "display_data",
     "data": {
      "application/vnd.jupyter.widget-view+json": {
       "version_major": 2,
       "version_minor": 0,
       "model_id": "d652f3af949c43c38293997eb6a43d0e"
      },
      "text/plain": [
       "Select up to 1 cases per Patient (Completed):   0%|          | 0/42320 [00:00<?, ?it/s]"
      ]
     },
     "metadata": {}
    },
    {
     "output_type": "stream",
     "name": "stderr",
     "text": [
      "INFO:BuilderLogger:1 Case Per Patient. Num Cases: 42320\n",
      "INFO:BuilderLogger:After Downsample. Num Cases: 1250\n",
      "INFO:BuilderLogger:Preanes Inference Split: 1000\n",
      "INFO:BuilderLogger:Preanes Fewshot Split: 250\n",
      "INFO:BuilderLogger:Last10 Inference Split: 1000\n",
      "INFO:BuilderLogger:Last10 Fewshot Split: 250\n",
      "INFO:FileLogger:Saved: /home/azureuser/cloudfiles/code/Users/chungph/llm-asa-los/data/v7/processed/dataset4/asa-preanes-inference.feather\n",
      "INFO:FileLogger:Saved: /home/azureuser/cloudfiles/code/Users/chungph/llm-asa-los/data/v7/processed/dataset4/asa-preanes-fewshot.feather\n",
      "INFO:FileLogger:Saved: /home/azureuser/cloudfiles/code/Users/chungph/llm-asa-los/data/v7/processed/dataset4/asa-last10-inference.feather\n",
      "INFO:FileLogger:Saved: /home/azureuser/cloudfiles/code/Users/chungph/llm-asa-los/data/v7/processed/dataset4/asa-last10-fewshot.feather\n"
     ]
    }
   ],
   "metadata": {}
  },
  {
   "cell_type": "code",
   "execution_count": 5,
   "source": [
    "logging.info(\"Create Phase 1 Duration Dataset\")\n",
    "phase1 = builder.create_dataset(dataset_type=\"phase1_duration\")"
   ],
   "outputs": [
    {
     "output_type": "stream",
     "name": "stderr",
     "text": [
      "INFO:root:Create Phase 1 Duration Dataset\n",
      "INFO:BuilderLogger:Starting Num Cases: 105815\n",
      "INFO:BuilderLogger:Num Cases (filter by ProcIDs where we have PreAnes & Last10 Notes): 39816\n",
      "INFO:BuilderLogger:Remove Organ Donor Cases. Num Cases: 39804\n"
     ]
    },
    {
     "output_type": "display_data",
     "data": {
      "application/vnd.jupyter.widget-view+json": {
       "version_major": 2,
       "version_minor": 0,
       "model_id": "0541215877c740cf9d4a1b5b44e4181d"
      },
      "text/plain": [
       "Select up to 1 cases per Patient (Dispatch):   0%|          | 0/36693 [00:00<?, ?it/s]"
      ]
     },
     "metadata": {}
    },
    {
     "output_type": "display_data",
     "data": {
      "application/vnd.jupyter.widget-view+json": {
       "version_major": 2,
       "version_minor": 0,
       "model_id": "a9aa66896ab644288db634916737138b"
      },
      "text/plain": [
       "Select up to 1 cases per Patient (Completed):   0%|          | 0/36693 [00:00<?, ?it/s]"
      ]
     },
     "metadata": {}
    },
    {
     "output_type": "stream",
     "name": "stderr",
     "text": [
      "INFO:BuilderLogger:1 Case Per Patient. Num Cases: 36693\n",
      "INFO:BuilderLogger:After Downsample. Num Cases: 1250\n",
      "INFO:BuilderLogger:Preanes Inference Split: 1000\n",
      "INFO:BuilderLogger:Preanes Fewshot Split: 250\n",
      "INFO:BuilderLogger:Last10 Inference Split: 1000\n",
      "INFO:BuilderLogger:Last10 Fewshot Split: 250\n",
      "INFO:FileLogger:Saved: /home/azureuser/cloudfiles/code/Users/chungph/llm-asa-los/data/v7/processed/dataset4/phase1_duration-preanes-inference.feather\n",
      "INFO:FileLogger:Saved: /home/azureuser/cloudfiles/code/Users/chungph/llm-asa-los/data/v7/processed/dataset4/phase1_duration-preanes-fewshot.feather\n",
      "INFO:FileLogger:Saved: /home/azureuser/cloudfiles/code/Users/chungph/llm-asa-los/data/v7/processed/dataset4/phase1_duration-last10-inference.feather\n",
      "INFO:FileLogger:Saved: /home/azureuser/cloudfiles/code/Users/chungph/llm-asa-los/data/v7/processed/dataset4/phase1_duration-last10-fewshot.feather\n"
     ]
    }
   ],
   "metadata": {}
  },
  {
   "cell_type": "code",
   "execution_count": 6,
   "source": [
    "logging.info(\"Create Hospital Duration Dataset\")\n",
    "hospital_duration = builder.create_dataset(dataset_type=\"hospital_duration\")"
   ],
   "outputs": [
    {
     "output_type": "stream",
     "name": "stderr",
     "text": [
      "INFO:root:Create Hospital Duration Dataset\n",
      "INFO:BuilderLogger:Starting Num Cases: 105815\n",
      "INFO:BuilderLogger:Num Cases (filter by ProcIDs where we have PreAnes & Last10 Notes): 39816\n",
      "INFO:BuilderLogger:Remove Organ Donor Cases. Num Cases: 39804\n"
     ]
    },
    {
     "output_type": "display_data",
     "data": {
      "application/vnd.jupyter.widget-view+json": {
       "version_major": 2,
       "version_minor": 0,
       "model_id": "514f34968bc64d7f9e012b16f7459ff9"
      },
      "text/plain": [
       "Select up to 1 cases per Patient (Dispatch):   0%|          | 0/36693 [00:00<?, ?it/s]"
      ]
     },
     "metadata": {}
    },
    {
     "output_type": "display_data",
     "data": {
      "application/vnd.jupyter.widget-view+json": {
       "version_major": 2,
       "version_minor": 0,
       "model_id": "22ff3ac0f50f449a8b3076aa1b90aba9"
      },
      "text/plain": [
       "Select up to 1 cases per Patient (Completed):   0%|          | 0/36693 [00:00<?, ?it/s]"
      ]
     },
     "metadata": {}
    },
    {
     "output_type": "stream",
     "name": "stderr",
     "text": [
      "INFO:BuilderLogger:1 Case Per Patient. Num Cases: 36693\n",
      "INFO:BuilderLogger:After Downsample. Num Cases: 1250\n",
      "INFO:BuilderLogger:Preanes Inference Split: 1000\n",
      "INFO:BuilderLogger:Preanes Fewshot Split: 250\n",
      "INFO:BuilderLogger:Last10 Inference Split: 1000\n",
      "INFO:BuilderLogger:Last10 Fewshot Split: 250\n",
      "INFO:FileLogger:Saved: /home/azureuser/cloudfiles/code/Users/chungph/llm-asa-los/data/v7/processed/dataset4/hospital_duration-preanes-inference.feather\n",
      "INFO:FileLogger:Saved: /home/azureuser/cloudfiles/code/Users/chungph/llm-asa-los/data/v7/processed/dataset4/hospital_duration-preanes-fewshot.feather\n",
      "INFO:FileLogger:Saved: /home/azureuser/cloudfiles/code/Users/chungph/llm-asa-los/data/v7/processed/dataset4/hospital_duration-last10-inference.feather\n",
      "INFO:FileLogger:Saved: /home/azureuser/cloudfiles/code/Users/chungph/llm-asa-los/data/v7/processed/dataset4/hospital_duration-last10-fewshot.feather\n"
     ]
    }
   ],
   "metadata": {}
  },
  {
   "cell_type": "code",
   "execution_count": 7,
   "source": [
    "logging.info(\"Create Hospital Admission Dataset\")\n",
    "hospital_admission = builder.create_dataset(dataset_type=\"hospital_admission\")"
   ],
   "outputs": [
    {
     "output_type": "stream",
     "name": "stderr",
     "text": [
      "INFO:root:Create Hospital Admission Dataset\n",
      "INFO:BuilderLogger:Starting Num Cases: 105815\n",
      "INFO:BuilderLogger:Num Cases (filter by ProcIDs where we have PreAnes & Last10 Notes): 39816\n",
      "INFO:BuilderLogger:Remove Organ Donor Cases. Num Cases: 39804\n"
     ]
    },
    {
     "output_type": "display_data",
     "data": {
      "application/vnd.jupyter.widget-view+json": {
       "version_major": 2,
       "version_minor": 0,
       "model_id": "631d2d36e3db44d6b06602daa36ea2c6"
      },
      "text/plain": [
       "Select up to 1 cases per Patient (Dispatch):   0%|          | 0/36693 [00:00<?, ?it/s]"
      ]
     },
     "metadata": {}
    },
    {
     "output_type": "display_data",
     "data": {
      "application/vnd.jupyter.widget-view+json": {
       "version_major": 2,
       "version_minor": 0,
       "model_id": "228c7616a8ae4b99884dfd40a9363b79"
      },
      "text/plain": [
       "Select up to 1 cases per Patient (Completed):   0%|          | 0/36693 [00:00<?, ?it/s]"
      ]
     },
     "metadata": {}
    },
    {
     "output_type": "stream",
     "name": "stderr",
     "text": [
      "INFO:BuilderLogger:1 Case Per Patient. Num Cases: 36693\n",
      "INFO:BuilderLogger:After Downsample. Num Cases: 1250\n",
      "INFO:BuilderLogger:Preanes Inference Split: 1000\n",
      "INFO:BuilderLogger:Preanes Fewshot Split: 250\n",
      "INFO:BuilderLogger:Last10 Inference Split: 1000\n",
      "INFO:BuilderLogger:Last10 Fewshot Split: 250\n",
      "INFO:FileLogger:Saved: /home/azureuser/cloudfiles/code/Users/chungph/llm-asa-los/data/v7/processed/dataset4/hospital_admission-preanes-inference.feather\n",
      "INFO:FileLogger:Saved: /home/azureuser/cloudfiles/code/Users/chungph/llm-asa-los/data/v7/processed/dataset4/hospital_admission-preanes-fewshot.feather\n",
      "INFO:FileLogger:Saved: /home/azureuser/cloudfiles/code/Users/chungph/llm-asa-los/data/v7/processed/dataset4/hospital_admission-last10-inference.feather\n",
      "INFO:FileLogger:Saved: /home/azureuser/cloudfiles/code/Users/chungph/llm-asa-los/data/v7/processed/dataset4/hospital_admission-last10-fewshot.feather\n"
     ]
    }
   ],
   "metadata": {}
  },
  {
   "cell_type": "code",
   "execution_count": 8,
   "source": [
    "logging.info(\"Create ICU Duration Dataset\")\n",
    "icu_duration = builder.create_dataset(dataset_type=\"icu_duration\")"
   ],
   "outputs": [
    {
     "output_type": "stream",
     "name": "stderr",
     "text": [
      "INFO:root:Create ICU Duration Dataset\n",
      "INFO:BuilderLogger:Starting Num Cases: 105815\n",
      "INFO:BuilderLogger:Num Cases (filter by ProcIDs where we have PreAnes & Last10 Notes): 39816\n",
      "INFO:BuilderLogger:Remove Organ Donor Cases. Num Cases: 39804\n",
      "INFO:BuilderLogger:ICU Num Cases: 677\n",
      "INFO:BuilderLogger:Non-ICU Num Cases: 39127\n"
     ]
    },
    {
     "output_type": "display_data",
     "data": {
      "application/vnd.jupyter.widget-view+json": {
       "version_major": 2,
       "version_minor": 0,
       "model_id": "d64e655926bc44afbd9df24f4565fe3c"
      },
      "text/plain": [
       "Select up to 1 cases per Patient (Dispatch):   0%|          | 0/661 [00:00<?, ?it/s]"
      ]
     },
     "metadata": {}
    },
    {
     "output_type": "display_data",
     "data": {
      "application/vnd.jupyter.widget-view+json": {
       "version_major": 2,
       "version_minor": 0,
       "model_id": "66c3a2bae48e446d9318bd82bad2373e"
      },
      "text/plain": [
       "Select up to 1 cases per Patient (Completed):   0%|          | 0/661 [00:00<?, ?it/s]"
      ]
     },
     "metadata": {}
    },
    {
     "output_type": "display_data",
     "data": {
      "application/vnd.jupyter.widget-view+json": {
       "version_major": 2,
       "version_minor": 0,
       "model_id": "0fd8a20f25454de4bcb2572e057d3e69"
      },
      "text/plain": [
       "Select up to 1 cases per Patient (Dispatch):   0%|          | 0/36032 [00:00<?, ?it/s]"
      ]
     },
     "metadata": {}
    },
    {
     "output_type": "display_data",
     "data": {
      "application/vnd.jupyter.widget-view+json": {
       "version_major": 2,
       "version_minor": 0,
       "model_id": "ffcfd9ced17a433ca5c957de36c5728e"
      },
      "text/plain": [
       "Select up to 1 cases per Patient (Completed):   0%|          | 0/36032 [00:00<?, ?it/s]"
      ]
     },
     "metadata": {}
    },
    {
     "output_type": "stream",
     "name": "stderr",
     "text": [
      "INFO:BuilderLogger:1 Case Per Patient. ICU Num Cases: 661\n",
      "INFO:BuilderLogger:1 Case Per Patient. Non-ICU Num Cases: 36032\n",
      "INFO:BuilderLogger:1 Case Per Patient. Non-ICU Num Cases: 36032\n",
      "INFO:BuilderLogger:After Downsample. Num Cases: 1250\n",
      "INFO:BuilderLogger:Preanes Inference Split: 1000\n",
      "INFO:BuilderLogger:Preanes Fewshot Split: 250\n",
      "INFO:BuilderLogger:Last10 Inference Split: 1000\n",
      "INFO:BuilderLogger:Last10 Fewshot Split: 250\n",
      "INFO:FileLogger:Saved: /home/azureuser/cloudfiles/code/Users/chungph/llm-asa-los/data/v7/processed/dataset4/icu_duration-preanes-inference.feather\n",
      "INFO:FileLogger:Saved: /home/azureuser/cloudfiles/code/Users/chungph/llm-asa-los/data/v7/processed/dataset4/icu_duration-preanes-fewshot.feather\n",
      "INFO:FileLogger:Saved: /home/azureuser/cloudfiles/code/Users/chungph/llm-asa-los/data/v7/processed/dataset4/icu_duration-last10-inference.feather\n",
      "INFO:FileLogger:Saved: /home/azureuser/cloudfiles/code/Users/chungph/llm-asa-los/data/v7/processed/dataset4/icu_duration-last10-fewshot.feather\n"
     ]
    }
   ],
   "metadata": {}
  },
  {
   "cell_type": "code",
   "execution_count": 9,
   "source": [
    "logging.info(\"Create ICU Admission Dataset\")\n",
    "icu_admission = builder.create_dataset(dataset_type=\"icu_admission\")"
   ],
   "outputs": [
    {
     "output_type": "stream",
     "name": "stderr",
     "text": [
      "INFO:root:Create ICU Admission Dataset\n",
      "INFO:BuilderLogger:Starting Num Cases: 105815\n",
      "INFO:BuilderLogger:Num Cases (filter by ProcIDs where we have PreAnes & Last10 Notes): 39816\n",
      "INFO:BuilderLogger:Remove Organ Donor Cases. Num Cases: 39804\n",
      "INFO:BuilderLogger:ICU Num Cases: 677\n",
      "INFO:BuilderLogger:Non-ICU Num Cases: 39127\n"
     ]
    },
    {
     "output_type": "display_data",
     "data": {
      "application/vnd.jupyter.widget-view+json": {
       "version_major": 2,
       "version_minor": 0,
       "model_id": "14a00f5709b74ae78d5ab496cb7988e4"
      },
      "text/plain": [
       "Select up to 1 cases per Patient (Dispatch):   0%|          | 0/661 [00:00<?, ?it/s]"
      ]
     },
     "metadata": {}
    },
    {
     "output_type": "display_data",
     "data": {
      "application/vnd.jupyter.widget-view+json": {
       "version_major": 2,
       "version_minor": 0,
       "model_id": "80ecdba31d404d0fa61e8fa0e5db0052"
      },
      "text/plain": [
       "Select up to 1 cases per Patient (Completed):   0%|          | 0/661 [00:00<?, ?it/s]"
      ]
     },
     "metadata": {}
    },
    {
     "output_type": "display_data",
     "data": {
      "application/vnd.jupyter.widget-view+json": {
       "version_major": 2,
       "version_minor": 0,
       "model_id": "2d056b3398594585843bcbfca9f9f648"
      },
      "text/plain": [
       "Select up to 1 cases per Patient (Dispatch):   0%|          | 0/36032 [00:00<?, ?it/s]"
      ]
     },
     "metadata": {}
    },
    {
     "output_type": "display_data",
     "data": {
      "application/vnd.jupyter.widget-view+json": {
       "version_major": 2,
       "version_minor": 0,
       "model_id": "4f5544b9ca3b419d8c28b4808a790843"
      },
      "text/plain": [
       "Select up to 1 cases per Patient (Completed):   0%|          | 0/36032 [00:00<?, ?it/s]"
      ]
     },
     "metadata": {}
    },
    {
     "output_type": "stream",
     "name": "stderr",
     "text": [
      "INFO:BuilderLogger:1 Case Per Patient. ICU Num Cases: 661\n",
      "INFO:BuilderLogger:1 Case Per Patient. Non-ICU Num Cases: 36032\n",
      "INFO:BuilderLogger:1 Case Per Patient. Non-ICU Num Cases: 36032\n",
      "INFO:BuilderLogger:After Downsample. Num Cases: 1250\n",
      "INFO:BuilderLogger:Preanes Inference Split: 1000\n",
      "INFO:BuilderLogger:Preanes Fewshot Split: 250\n",
      "INFO:BuilderLogger:Last10 Inference Split: 1000\n",
      "INFO:BuilderLogger:Last10 Fewshot Split: 250\n",
      "INFO:FileLogger:Saved: /home/azureuser/cloudfiles/code/Users/chungph/llm-asa-los/data/v7/processed/dataset4/icu_admission-preanes-inference.feather\n",
      "INFO:FileLogger:Saved: /home/azureuser/cloudfiles/code/Users/chungph/llm-asa-los/data/v7/processed/dataset4/icu_admission-preanes-fewshot.feather\n",
      "INFO:FileLogger:Saved: /home/azureuser/cloudfiles/code/Users/chungph/llm-asa-los/data/v7/processed/dataset4/icu_admission-last10-inference.feather\n",
      "INFO:FileLogger:Saved: /home/azureuser/cloudfiles/code/Users/chungph/llm-asa-los/data/v7/processed/dataset4/icu_admission-last10-fewshot.feather\n"
     ]
    }
   ],
   "metadata": {}
  },
  {
   "cell_type": "code",
   "execution_count": 10,
   "source": [
    "logging.info(\"Create Unplanned Admit Dataset\")\n",
    "unplanned_admit = builder.create_dataset(dataset_type=\"unplanned_admit\")"
   ],
   "outputs": [
    {
     "output_type": "stream",
     "name": "stderr",
     "text": [
      "INFO:root:Create Unplanned Admit Dataset\n",
      "INFO:BuilderLogger:Starting Num Cases: 125881\n",
      "INFO:BuilderLogger:Num Cases (filter by ProcIDs where we have PreAnes & Last10 Notes): 46472\n",
      "INFO:BuilderLogger:Remove Organ Donor Cases. Num Cases: 46460\n",
      "INFO:BuilderLogger:Unplanned Admit Num Cases: 595\n",
      "INFO:BuilderLogger:Not Unplanned Admit Num Cases: 45865\n"
     ]
    },
    {
     "output_type": "display_data",
     "data": {
      "application/vnd.jupyter.widget-view+json": {
       "version_major": 2,
       "version_minor": 0,
       "model_id": "89037046c5e94946827a4488c9d0fd44"
      },
      "text/plain": [
       "Select up to 1 cases per Patient (Dispatch):   0%|          | 0/593 [00:00<?, ?it/s]"
      ]
     },
     "metadata": {}
    },
    {
     "output_type": "display_data",
     "data": {
      "application/vnd.jupyter.widget-view+json": {
       "version_major": 2,
       "version_minor": 0,
       "model_id": "bd8a1f741c3946449d53ca96f4f5e62a"
      },
      "text/plain": [
       "Select up to 1 cases per Patient (Completed):   0%|          | 0/593 [00:00<?, ?it/s]"
      ]
     },
     "metadata": {}
    },
    {
     "output_type": "display_data",
     "data": {
      "application/vnd.jupyter.widget-view+json": {
       "version_major": 2,
       "version_minor": 0,
       "model_id": "82c84f4b86074ff28faba97c818e7bb8"
      },
      "text/plain": [
       "Select up to 1 cases per Patient (Dispatch):   0%|          | 0/41715 [00:00<?, ?it/s]"
      ]
     },
     "metadata": {}
    },
    {
     "output_type": "display_data",
     "data": {
      "application/vnd.jupyter.widget-view+json": {
       "version_major": 2,
       "version_minor": 0,
       "model_id": "0e64795e6692479bb628ea5a2fb4c37a"
      },
      "text/plain": [
       "Select up to 1 cases per Patient (Completed):   0%|          | 0/41715 [00:00<?, ?it/s]"
      ]
     },
     "metadata": {}
    },
    {
     "output_type": "stream",
     "name": "stderr",
     "text": [
      "INFO:BuilderLogger:1 Case Per Patient. Unplanned Admit Num Cases: 593\n",
      "INFO:BuilderLogger:1 Case Per Patient. Not Unplanned Admit Num Cases: 41715\n",
      "INFO:BuilderLogger:1 Case Per Patient. Not Unplanned Admit Num Cases: 41715\n",
      "INFO:BuilderLogger:After Downsample. Num Cases: 1186\n",
      "INFO:BuilderLogger:Preanes Inference Split: 949\n",
      "INFO:BuilderLogger:Preanes Fewshot Split: 237\n",
      "INFO:BuilderLogger:Last10 Inference Split: 949\n",
      "INFO:BuilderLogger:Last10 Fewshot Split: 237\n",
      "INFO:FileLogger:Saved: /home/azureuser/cloudfiles/code/Users/chungph/llm-asa-los/data/v7/processed/dataset4/unplanned_admit-preanes-inference.feather\n",
      "INFO:FileLogger:Saved: /home/azureuser/cloudfiles/code/Users/chungph/llm-asa-los/data/v7/processed/dataset4/unplanned_admit-preanes-fewshot.feather\n",
      "INFO:FileLogger:Saved: /home/azureuser/cloudfiles/code/Users/chungph/llm-asa-los/data/v7/processed/dataset4/unplanned_admit-last10-inference.feather\n",
      "INFO:FileLogger:Saved: /home/azureuser/cloudfiles/code/Users/chungph/llm-asa-los/data/v7/processed/dataset4/unplanned_admit-last10-fewshot.feather\n"
     ]
    }
   ],
   "metadata": {}
  },
  {
   "cell_type": "code",
   "execution_count": 11,
   "source": [
    "logging.info(\"Create Hospital Mortality Dataset\")\n",
    "hospital_mortality = builder.create_dataset(dataset_type=\"hospital_mortality\")"
   ],
   "outputs": [
    {
     "output_type": "stream",
     "name": "stderr",
     "text": [
      "INFO:root:Create Hospital Mortality Dataset\n",
      "INFO:BuilderLogger:Starting Num Cases: 125881\n",
      "INFO:BuilderLogger:Num Cases (filter by ProcIDs where we have PreAnes & Last10 Notes): 46472\n",
      "INFO:BuilderLogger:Remove Organ Donor Cases. Num Cases: 46460\n",
      "INFO:BuilderLogger:Hospital Mortality Num Cases: 410\n",
      "INFO:BuilderLogger:Not Hospital Mortality Num Cases: 46050\n"
     ]
    },
    {
     "output_type": "display_data",
     "data": {
      "application/vnd.jupyter.widget-view+json": {
       "version_major": 2,
       "version_minor": 0,
       "model_id": "8e9c9b95d6f34be3b71c2b3e6ec66c68"
      },
      "text/plain": [
       "Select up to 1 cases per Patient (Dispatch):   0%|          | 0/360 [00:00<?, ?it/s]"
      ]
     },
     "metadata": {}
    },
    {
     "output_type": "display_data",
     "data": {
      "application/vnd.jupyter.widget-view+json": {
       "version_major": 2,
       "version_minor": 0,
       "model_id": "c95cc6e278764f7499f5972b3c00cc76"
      },
      "text/plain": [
       "Select up to 1 cases per Patient (Completed):   0%|          | 0/360 [00:00<?, ?it/s]"
      ]
     },
     "metadata": {}
    },
    {
     "output_type": "display_data",
     "data": {
      "application/vnd.jupyter.widget-view+json": {
       "version_major": 2,
       "version_minor": 0,
       "model_id": "c1a089b997bc4a15a7ac87009ff7f617"
      },
      "text/plain": [
       "Select up to 1 cases per Patient (Dispatch):   0%|          | 0/41948 [00:00<?, ?it/s]"
      ]
     },
     "metadata": {}
    },
    {
     "output_type": "display_data",
     "data": {
      "application/vnd.jupyter.widget-view+json": {
       "version_major": 2,
       "version_minor": 0,
       "model_id": "0f8ad91ba3914de585a30f54f7838ce3"
      },
      "text/plain": [
       "Select up to 1 cases per Patient (Completed):   0%|          | 0/41948 [00:00<?, ?it/s]"
      ]
     },
     "metadata": {}
    },
    {
     "output_type": "stream",
     "name": "stderr",
     "text": [
      "INFO:BuilderLogger:1 Case Per Patient. Hospital Mortality Num Cases: 360\n",
      "INFO:BuilderLogger:1 Case Per Patient. Not Hospital Mortality Num Cases: 41948\n",
      "INFO:BuilderLogger:1 Case Per Patient. Not Hospital Mortality Num Cases: 41948\n",
      "INFO:BuilderLogger:After Downsample. Num Cases: 720\n",
      "INFO:BuilderLogger:Preanes Inference Split: 576\n",
      "INFO:BuilderLogger:Preanes Fewshot Split: 144\n",
      "INFO:BuilderLogger:Last10 Inference Split: 576\n",
      "INFO:BuilderLogger:Last10 Fewshot Split: 144\n",
      "INFO:FileLogger:Saved: /home/azureuser/cloudfiles/code/Users/chungph/llm-asa-los/data/v7/processed/dataset4/hospital_mortality-preanes-inference.feather\n",
      "INFO:FileLogger:Saved: /home/azureuser/cloudfiles/code/Users/chungph/llm-asa-los/data/v7/processed/dataset4/hospital_mortality-preanes-fewshot.feather\n",
      "INFO:FileLogger:Saved: /home/azureuser/cloudfiles/code/Users/chungph/llm-asa-los/data/v7/processed/dataset4/hospital_mortality-last10-inference.feather\n",
      "INFO:FileLogger:Saved: /home/azureuser/cloudfiles/code/Users/chungph/llm-asa-los/data/v7/processed/dataset4/hospital_mortality-last10-fewshot.feather\n"
     ]
    }
   ],
   "metadata": {}
  }
 ],
 "nbformat": 4,
 "nbformat_minor": 2,
 "metadata": {
  "language_info": {
   "codemirror_mode": {
    "name": "ipython",
    "version": 3
   },
   "file_extension": ".py",
   "mimetype": "text/x-python",
   "name": "python",
   "nbconvert_exporter": "python",
   "pygments_lexer": "ipython3",
   "version": 3
  }
 }
}